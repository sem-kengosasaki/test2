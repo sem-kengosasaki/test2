{
 "cells": [
  {
   "cell_type": "code",
   "execution_count": null,
   "metadata": {},
   "outputs": [],
   "source": [
    "c=1+455\n",
    "print(\"aaa\")\n",
    "k=1+1\n",
    "d=1+22\n",
    "print(c)\n",
    "print(k)"
   ]
  }
 ],
 "metadata": {
  "language_info": {
   "name": "python"
  }
 },
 "nbformat": 4,
 "nbformat_minor": 2
}
